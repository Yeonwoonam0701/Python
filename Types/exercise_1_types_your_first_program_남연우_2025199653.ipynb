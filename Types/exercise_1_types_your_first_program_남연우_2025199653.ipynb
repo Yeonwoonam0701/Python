{
  "nbformat": 4,
  "nbformat_minor": 0,
  "metadata": {
    "colab": {
      "provenance": [],
      "name": "exercise-1-types-your-first-program-남연우-2025199653.ipynb",
      "authorship_tag": "ABX9TyMKiTYU5nSJMixA8XZjHU4f",
      "include_colab_link": true
    },
    "kernelspec": {
      "name": "python3",
      "display_name": "Python 3"
    },
    "language_info": {
      "name": "python"
    }
  },
  "cells": [
    {
      "cell_type": "markdown",
      "metadata": {
        "id": "view-in-github",
        "colab_type": "text"
      },
      "source": [
        "<a href=\"https://colab.research.google.com/github/Yeonwoonam0701/Python/blob/main/exercise_1_types_your_first_program_%EB%82%A8%EC%97%B0%EC%9A%B0_2025199653.ipynb\" target=\"_parent\"><img src=\"https://colab.research.google.com/assets/colab-badge.svg\" alt=\"Open In Colab\"/></a>"
      ]
    },
    {
      "cell_type": "code",
      "execution_count": null,
      "metadata": {
        "colab": {
          "base_uri": "https://localhost:8080/"
        },
        "id": "03XHIXCyDU0M",
        "outputId": "35b77fc4-4733-4a47-e52c-641e9c0227cd"
      },
      "outputs": [
        {
          "output_type": "stream",
          "name": "stdout",
          "text": [
            "Hello, world!\n",
            "Hello, python\n"
          ]
        }
      ],
      "source": [
        "print(\"Hello, world!\")\n",
        "\n",
        "print(\"Hello, python\") # Exercise 1 (Types): Your First Program 남연우 2025199653\n"
      ]
    }
  ]
}