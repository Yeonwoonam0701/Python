{
  "nbformat": 4,
  "nbformat_minor": 0,
  "metadata": {
    "colab": {
      "provenance": [],
      "authorship_tag": "ABX9TyOHKYOOjdNF6+o2LCNeH60L",
      "include_colab_link": true
    },
    "kernelspec": {
      "name": "python3",
      "display_name": "Python 3"
    },
    "language_info": {
      "name": "python"
    }
  },
  "cells": [
    {
      "cell_type": "markdown",
      "metadata": {
        "id": "view-in-github",
        "colab_type": "text"
      },
      "source": [
        "<a href=\"https://colab.research.google.com/github/Yeonwoonam0701/Python/blob/main/Midterm_Exam_Copilot.ipynb\" target=\"_parent\"><img src=\"https://colab.research.google.com/assets/colab-badge.svg\" alt=\"Open In Colab\"/></a>"
      ]
    },
    {
      "cell_type": "code",
      "execution_count": 6,
      "metadata": {
        "colab": {
          "base_uri": "https://localhost:8080/"
        },
        "id": "6hBQ9pVUiLr0",
        "outputId": "3a4105ed-5b72-4599-b7a5-31c1912e7748"
      },
      "outputs": [
        {
          "output_type": "stream",
          "name": "stdout",
          "text": [
            "['3은 홀수입니다.', '10은 짝수입니다.']\n",
            "['5 x 1 = 5', '5 x 2 = 10', '5 x 3 = 15', '5 x 4 = 20', '5 x 5 = 25', '5 x 6 = 30', '5 x 7 = 35', '5 x 8 = 40', '5 x 9 = 45', '2~9 사이의 수를 입력하세요']\n",
            "['학생1: 합격', '학생2: 불합격', '학생3: 합격', '학생4: 합격', '학생5: 합격', '학생6: 불합격', '학생7: 합격', '학생8: 합격', '학생9: 불합격', '학생10: 합격', '전체 평균 점수: 67.0']\n",
            "['사용 가능한 비밀번호입니다.', '조건을 만족하지 않습니다.']\n",
            "['Down', 'Down', 'Down', 'Down']\n"
          ]
        }
      ],
      "source": [
        "### [문제 1] 사용자로부터 정수를 반복적으로 입력받아 짝수와 홀수를 구분하여 출력하는 프로그램\n",
        "\n",
        "def even_odd(numbers):\n",
        "    results = []\n",
        "    for num in numbers:\n",
        "        if num == -1:\n",
        "            break\n",
        "        elif num % 2 == 0:\n",
        "            results.append(f\"{num}은 짝수입니다.\")\n",
        "        else:\n",
        "            results.append(f\"{num}은 홀수입니다.\")\n",
        "    return results\n",
        "\n",
        "# 예시 사용법\n",
        "numbers = [3, 10, -1]\n",
        "print(even_odd(numbers))\n",
        "\n",
        "\n",
        "### [문제 2] 숫자 하나(2~9)를 입력받아 해당 숫자의 구구단을 출력하는 프로그램\n",
        "\n",
        "def multiplication_table(numbers):\n",
        "    results = []\n",
        "    for num in numbers:\n",
        "        if num == 0:\n",
        "            break\n",
        "        elif num < 2 or num > 9:\n",
        "            results.append(\"2~9 사이의 수를 입력하세요\")\n",
        "        else:\n",
        "            for i in range(1, 10):\n",
        "                results.append(f\"{num} x {i} = {num * i}\")\n",
        "    return results\n",
        "\n",
        "# 예시 사용법\n",
        "numbers = [5, 10, 0]\n",
        "print(multiplication_table(numbers))\n",
        "\n",
        "\n",
        "### [문제 3] 학생 10명의 이름과 점수를 입력받아 합격/불합격을 표시하고 전체 평균을 출력하는 프로그램\n",
        "\n",
        "def student_scores(students):\n",
        "    total_score = sum(students.values())\n",
        "    average_score = total_score / len(students)\n",
        "    results = []\n",
        "\n",
        "    for name, score in students.items():\n",
        "        if score >= 60:\n",
        "            results.append(f\"{name}: 합격\")\n",
        "        else:\n",
        "            results.append(f\"{name}: 불합격\")\n",
        "\n",
        "    results.append(f\"전체 평균 점수: {average_score}\")\n",
        "    return results\n",
        "\n",
        "# 예시 사용법\n",
        "students = {\n",
        "    \"학생1\": 70,\n",
        "    \"학생2\": 50,\n",
        "    \"학생3\": 80,\n",
        "    \"학생4\": 90,\n",
        "    \"학생5\": 60,\n",
        "    \"학생6\": 40,\n",
        "    \"학생7\": 85,\n",
        "    \"학생8\": 75,\n",
        "    \"학생9\": 55,\n",
        "    \"학생10\": 65\n",
        "}\n",
        "print(student_scores(students))\n",
        "\n",
        "\n",
        "### [문제 4] 사용자가 입력한 문자열이 조건을 만족하는지 확인하는 프로그램\n",
        "\n",
        "def password_check(passwords):\n",
        "    results = []\n",
        "    for password in passwords:\n",
        "        if password == 'exit':\n",
        "            break\n",
        "        if (len(password) >= 8 and any(c.isdigit() for c in password) and\n",
        "            any(c.isupper() for c in password) and any(c.islower() for c in password)):\n",
        "            results.append(\"사용 가능한 비밀번호입니다.\")\n",
        "        else:\n",
        "            results.append(\"조건을 만족하지 않습니다.\")\n",
        "    return results\n",
        "\n",
        "# 예시 사용법\n",
        "passwords = [\"Password123\", \"pass\", \"exit\"]\n",
        "print(password_check(passwords))\n",
        "\n",
        "\n",
        "### [문제 5] 프로그램이 1부터 100 사이의 무작위 숫자를 생성하고 사용자가 맞출 때까지 숫자를 입력하도록 하는 프로그램\n",
        "\n",
        "import random\n",
        "\n",
        "def guess_number(guesses):\n",
        "    target = random.randint(1, 100)\n",
        "    attempts = 0\n",
        "    results = []\n",
        "\n",
        "    for guess in guesses:\n",
        "        attempts += 1\n",
        "        if guess < target:\n",
        "            results.append(\"Up\")\n",
        "        elif guess > target:\n",
        "            results.append(\"Down\")\n",
        "        else:\n",
        "            results.append(f\"정답입니다! 시도 횟수: {attempts}회\")\n",
        "            break\n",
        "    return results\n",
        "\n",
        "# 예시 사용법\n",
        "guesses = [50, 75, 85, 90]\n",
        "print(guess_number(guesses))\n"
      ]
    }
  ]
}