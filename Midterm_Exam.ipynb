{
  "nbformat": 4,
  "nbformat_minor": 0,
  "metadata": {
    "colab": {
      "provenance": [],
      "authorship_tag": "ABX9TyNF+R6DtrF48XyqbJwAGwJ3",
      "include_colab_link": true
    },
    "kernelspec": {
      "name": "python3",
      "display_name": "Python 3"
    },
    "language_info": {
      "name": "python"
    }
  },
  "cells": [
    {
      "cell_type": "markdown",
      "metadata": {
        "id": "view-in-github",
        "colab_type": "text"
      },
      "source": [
        "<a href=\"https://colab.research.google.com/github/Yeonwoonam0701/Python/blob/main/Midterm_Exam.ipynb\" target=\"_parent\"><img src=\"https://colab.research.google.com/assets/colab-badge.svg\" alt=\"Open In Colab\"/></a>"
      ]
    },
    {
      "cell_type": "code",
      "execution_count": null,
      "metadata": {
        "id": "_tKgbXqyXMkN"
      },
      "outputs": [],
      "source": [
        "#[문제 1] 사용자로부터 정수를 반복적으로 입력받아 짝수와 홀수를 구분하여 출력하는 프로그램을 작성하시오.\n",
        "#종료 조건: -1을 입력하면 종료\n",
        "#출력 예: \"3은 홀수입니다.\", \"10은 짝수입니다.\"\n"
      ]
    },
    {
      "cell_type": "code",
      "source": [
        "print(\"정수 입력\")\n",
        "print(\"-1을 입력하면 종료\")\n",
        "\n",
        "while True:\n",
        "    num = int(input(\"숫자 입력: \"))\n",
        "\n",
        "    if num == -1:\n",
        "        print(\"프로그램 종료\")\n",
        "        break\n",
        "\n",
        "    if num % 2 == 0:\n",
        "        print(str(num) + \"은 짝수입니다.\")\n",
        "    else:\n",
        "        print(str(num) + \"은 홀수입니다.\")\n"
      ],
      "metadata": {
        "colab": {
          "base_uri": "https://localhost:8080/"
        },
        "id": "6abMhbNRamLa",
        "outputId": "da154195-81de-49b0-8181-cf8e10e46f0f"
      },
      "execution_count": null,
      "outputs": [
        {
          "output_type": "stream",
          "name": "stdout",
          "text": [
            "정수 입력\n",
            "-1을 입력하면 종료\n",
            "숫자 입력: 3\n",
            "3은 홀수입니다.\n",
            "숫자 입력: 10\n",
            "10은 짝수입니다.\n",
            "숫자 입력: -1\n",
            "프로그램 종료\n"
          ]
        }
      ]
    },
    {
      "cell_type": "code",
      "source": [
        "#[문제 2] 숫자 하나(2~9)를 입력받아 해당 숫자의 구구단을 출력하는 프로그램을 작성하시오.\n",
        "#잘못된 숫자를 입력하면 \"2~9 사이의 수를 입력하세요\" 출력\n",
        "#종료 조건: 0을 입력하면 종료\n"
      ],
      "metadata": {
        "id": "wWYNk-kXdop0"
      },
      "execution_count": null,
      "outputs": []
    },
    {
      "cell_type": "code",
      "source": [
        "print(\"2~9 사이 숫자 입력\")\n",
        "print(\"0을 입력하면 종료\")\n",
        "\n",
        "while True:\n",
        "    num = int(input(\"숫자 입력: \"))\n",
        "\n",
        "    if num == 0:\n",
        "        print(\"프로그램 종료\")\n",
        "        break\n",
        "\n",
        "    if 2 <= num <= 9:\n",
        "        for i in range(1, 10):\n",
        "            print(str(num) + \" x \" + str(i) + \" = \" + str(num * i))\n",
        "    else:\n",
        "        print(\"2~9 사이의 수를 입력하세요.\")"
      ],
      "metadata": {
        "colab": {
          "base_uri": "https://localhost:8080/"
        },
        "id": "W-3AXA9odxwu",
        "outputId": "187dd651-e0f2-42bd-9151-6d41a3d663f6"
      },
      "execution_count": null,
      "outputs": [
        {
          "output_type": "stream",
          "name": "stdout",
          "text": [
            "2~9 사이 숫자 입력\n",
            "0을 입력하면 종료\n",
            "숫자 입력: 3\n",
            "3 x 1 = 3\n",
            "3 x 2 = 6\n",
            "3 x 3 = 9\n",
            "3 x 4 = 12\n",
            "3 x 5 = 15\n",
            "3 x 6 = 18\n",
            "3 x 7 = 21\n",
            "3 x 8 = 24\n",
            "3 x 9 = 27\n",
            "숫자 입력: 0\n",
            "프로그램 종료\n"
          ]
        }
      ]
    },
    {
      "cell_type": "code",
      "source": [
        "#[문제3]학생 10명의 이름과 점수를 입력받아, 점수가 60점 이상이면 \"합격\", 아니면 \"불합격\"으로 표시하고, 전체 평균을 함께 출력하는 프로그램을 작성하시오."
      ],
      "metadata": {
        "id": "e5ZL6l_GeUI3"
      },
      "execution_count": null,
      "outputs": []
    },
    {
      "cell_type": "code",
      "source": [
        "total = 0\n",
        "\n",
        "for i in range(10):\n",
        "    name = input(str(i+1) + \"번째 학생 이름: \")\n",
        "    score = int(input(name + \"의 점수를 입력: \"))\n",
        "\n",
        "    if score >= 60:\n",
        "        print(name + \" 합격\")\n",
        "    else:\n",
        "        print(name + \" 불합격\")\n",
        "\n",
        "    total = total + score\n",
        "\n",
        "average = total / 10\n",
        "print(\"전체 평균 점수는 \" + str(average)+ \"점\")"
      ],
      "metadata": {
        "colab": {
          "base_uri": "https://localhost:8080/"
        },
        "id": "5C2TNgl6eaRl",
        "outputId": "9fde06b8-7f39-495c-826e-b5b91cc82944"
      },
      "execution_count": null,
      "outputs": [
        {
          "output_type": "stream",
          "name": "stdout",
          "text": [
            "1번째 학생 이름: 학생1\n",
            "학생1의 점수를 입력: 70\n",
            "학생1 합격\n",
            "2번째 학생 이름: 학생2\n",
            "학생2의 점수를 입력: 50\n",
            "학생2 불합격\n",
            "3번째 학생 이름: 학생3\n",
            "학생3의 점수를 입력: 75\n",
            "학생3 합격\n",
            "4번째 학생 이름: 학생4\n",
            "학생4의 점수를 입력: 45\n",
            "학생4 불합격\n",
            "5번째 학생 이름: 학생5\n",
            "학생5의 점수를 입력: 90\n",
            "학생5 합격\n",
            "6번째 학생 이름: 학생6\n",
            "학생6의 점수를 입력: 95\n",
            "학생6 합격\n",
            "7번째 학생 이름: 학생7\n",
            "학생7의 점수를 입력: 55\n",
            "학생7 불합격\n",
            "8번째 학생 이름: 학생8\n",
            "학생8의 점수를 입력: 60\n",
            "학생8 합격\n",
            "9번째 학생 이름: 학생9\n",
            "학생9의 점수를 입력: 65\n",
            "학생9 합격\n",
            "10번째 학생 이름: 학생10\n",
            "학생10의 점수를 입력: 85\n",
            "학생10 합격\n",
            "전체 평균 점수는 69.0점\n"
          ]
        }
      ]
    },
    {
      "cell_type": "code",
      "source": [
        "#[문제 4] 사용자가 입력한 문자열이 다음 조건을 모두 만족하는지 확인하는 프로그램을 작성하시오.\n",
        "#조건: 8자 이상, 숫자 포함, 영문 대문자 포함, 영문 소문자 포함\n",
        "#조건을 모두 만족하면 \"사용 가능한 비밀번호입니다.\", 아니면 \"조건을 만족하지 않습니다.\"를 출력\n",
        "#반복 입력, \"exit\" 입력 시 종료\n"
      ],
      "metadata": {
        "id": "bZ-9Fg3qfjyx"
      },
      "execution_count": null,
      "outputs": []
    },
    {
      "cell_type": "code",
      "source": [
        "print(\"비밀번호는 8자 이상, 숫자, 영문 대문자, 영문 소문자를 모두 포함해야 한다.\")\n",
        "print(\"exit 입력 시 종료\")\n",
        "\n",
        "while True:\n",
        "    pwd = input(\"비밀번호 입력: \")\n",
        "\n",
        "    if pwd == \"exit\":\n",
        "        print(\"프로그램 종료\")\n",
        "        break\n",
        "\n",
        "    length = len(pwd)\n",
        "    has_upper = 0\n",
        "    has_lower = 0\n",
        "    has_digit = 0\n",
        "\n",
        "    for ch in pwd:\n",
        "        if 'A' <= ch <= 'Z':\n",
        "            has_upper = 1\n",
        "        if 'a' <= ch <= 'z':\n",
        "            has_lower = 1\n",
        "        if '0' <= ch <= '9':\n",
        "            has_digit = 1\n",
        "\n",
        "    if length >= 8 and has_upper == 1 and has_lower == 1 and has_digit == 1:\n",
        "        print(\"사용 가능한 비밀번호입니다.\")\n",
        "    else:\n",
        "        print(\"조건을 만족하지 않습니다.\")"
      ],
      "metadata": {
        "colab": {
          "base_uri": "https://localhost:8080/"
        },
        "id": "6B4donNrgGw9",
        "outputId": "8b37fbc2-e651-4858-ba95-7c192fb37875"
      },
      "execution_count": null,
      "outputs": [
        {
          "output_type": "stream",
          "name": "stdout",
          "text": [
            "비밀번호는 8자 이상, 숫자, 영문 대문자, 영문 소문자를 모두 포함해야 한다.\n",
            "exit 입력 시 종료\n",
            "비밀번호 입력: 123456Qw\n",
            "사용 가능한 비밀번호입니다.\n",
            "비밀번호 입력: 1234qw\n",
            "조건을 만족하지 않습니다.\n",
            "비밀번호 입력: exit\n",
            "프로그램 종료\n"
          ]
        }
      ]
    },
    {
      "cell_type": "code",
      "source": [
        "#[문제 5] 프로그램이 1부터 100 사이의 무작위 숫자를 생성하고, 사용자가 맞출 때까지 숫자를 입력하도록 하세요.\n",
        "#입력한 숫자가 정답보다 크면 \"Down\", 작으면 \"Up\"을 출력\n",
        "#정답을 맞추면 시도 횟수와 함께 \"정답입니다! 시도 횟수: 5회\" 등으로 출력\n",
        "#random.randint() 함수 사용\n"
      ],
      "metadata": {
        "id": "zQ4RxRIRgi-V"
      },
      "execution_count": null,
      "outputs": []
    },
    {
      "cell_type": "code",
      "source": [
        "import random\n",
        "\n",
        "answer = random.randint(1, 100)\n",
        "count = 0\n",
        "\n",
        "print(\"1부터 100 사이의 숫자를 맞춰보세요!\")\n",
        "\n",
        "while True:\n",
        "    num = int(input(\"숫자 입력: \"))\n",
        "    count = count + 1  # 시도 횟수 +1\n",
        "\n",
        "    if num > answer:\n",
        "        print(\"Down\")\n",
        "    elif num < answer:\n",
        "        print(\"Up\")\n",
        "    else:\n",
        "        print(\"정답입니다! 시도 횟수: \" + str(count) + \"회\")\n",
        "        break"
      ],
      "metadata": {
        "colab": {
          "base_uri": "https://localhost:8080/"
        },
        "id": "KvRJxK64gmNO",
        "outputId": "f5e1c354-7d9a-42d3-b8a5-f140abb68539"
      },
      "execution_count": null,
      "outputs": [
        {
          "output_type": "stream",
          "name": "stdout",
          "text": [
            "1부터 100 사이의 숫자를 맞춰보세요!\n",
            "숫자 입력: 50\n",
            "Up\n",
            "숫자 입력: 60\n",
            "Up\n",
            "숫자 입력: 70\n",
            "Up\n",
            "숫자 입력: 80\n",
            "Up\n",
            "숫자 입력: 90\n",
            "Up\n",
            "숫자 입력: 100\n",
            "Down\n",
            "숫자 입력: 95\n",
            "Up\n",
            "숫자 입력: 98\n",
            "Up\n",
            "숫자 입력: 99\n",
            "정답입니다! 시도 횟수: 9회\n"
          ]
        }
      ]
    }
  ]
}