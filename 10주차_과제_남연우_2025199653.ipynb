{
  "nbformat": 4,
  "nbformat_minor": 0,
  "metadata": {
    "colab": {
      "provenance": [],
      "authorship_tag": "ABX9TyOqhyfjQz+0hUNDu8ptRsZB",
      "include_colab_link": true
    },
    "kernelspec": {
      "name": "python3",
      "display_name": "Python 3"
    },
    "language_info": {
      "name": "python"
    }
  },
  "cells": [
    {
      "cell_type": "markdown",
      "metadata": {
        "id": "view-in-github",
        "colab_type": "text"
      },
      "source": [
        "<a href=\"https://colab.research.google.com/github/Yeonwoonam0701/Python/blob/main/10%EC%A3%BC%EC%B0%A8_%EA%B3%BC%EC%A0%9C_%EB%82%A8%EC%97%B0%EC%9A%B0_2025199653.ipynb\" target=\"_parent\"><img src=\"https://colab.research.google.com/assets/colab-badge.svg\" alt=\"Open In Colab\"/></a>"
      ]
    },
    {
      "cell_type": "code",
      "execution_count": 1,
      "metadata": {
        "colab": {
          "base_uri": "https://localhost:8080/"
        },
        "id": "65WYQdkeoCFx",
        "outputId": "11cc594f-c8e9-40a6-baf1-f45672182916"
      },
      "outputs": [
        {
          "output_type": "stream",
          "name": "stdout",
          "text": [
            "3\n",
            "7\n",
            "12\n"
          ]
        }
      ],
      "source": [
        "# 1. 전역 변수로 만든 간단한 계산기 함수\n",
        "\n",
        "result = 0\n",
        "def adder(num):\n",
        "    global result\n",
        "    result += num\n",
        "    return result\n",
        "\n",
        "print(adder(3))  # 3\n",
        "print(adder(4))  # 7\n",
        "print(adder(5))  # 12"
      ]
    },
    {
      "cell_type": "code",
      "source": [
        "# 2. 전역 변수 두 개를 사용하는 경우 (계산기 2개)\n",
        "\n",
        "result1 = 0\n",
        "result2 = 0\n",
        "\n",
        "def adder1(num):\n",
        "    global result1\n",
        "    result1 += num\n",
        "    return result1\n",
        "\n",
        "def adder2(num):\n",
        "    global result2\n",
        "    result2 += num\n",
        "    return result2\n",
        "\n",
        "print(adder1(3))\n",
        "print(adder1(4))\n",
        "print(adder2(3))\n",
        "print(adder2(7))"
      ],
      "metadata": {
        "colab": {
          "base_uri": "https://localhost:8080/"
        },
        "id": "upoOLOwRoaYk",
        "outputId": "96ffe53a-ae7e-4dc1-8f39-f2aba76aa698"
      },
      "execution_count": 2,
      "outputs": [
        {
          "output_type": "stream",
          "name": "stdout",
          "text": [
            "3\n",
            "7\n",
            "3\n",
            "10\n"
          ]
        }
      ]
    },
    {
      "cell_type": "code",
      "source": [
        "# 3. 클래스 기반 계산기\n",
        "\n",
        "class Calculator:\n",
        "    def __init__(self):\n",
        "        self.result = 0\n",
        "    def adder(self, num):\n",
        "        self.result += num\n",
        "        return self.result\n",
        "\n",
        "cal1 = Calculator()\n",
        "cal2 = Calculator()\n",
        "\n",
        "print(cal1.adder(3))\n",
        "print(cal1.adder(4))\n",
        "print(cal2.adder(3))\n",
        "print(cal2.adder(7))"
      ],
      "metadata": {
        "colab": {
          "base_uri": "https://localhost:8080/"
        },
        "id": "5YSK3nDtoc4E",
        "outputId": "50d6f2bf-4988-43f0-97cd-7dc8a966dd82"
      },
      "execution_count": 3,
      "outputs": [
        {
          "output_type": "stream",
          "name": "stdout",
          "text": [
            "3\n",
            "7\n",
            "3\n",
            "10\n"
          ]
        }
      ]
    },
    {
      "cell_type": "code",
      "source": [
        "# 4. 클래스 변수 사용\n",
        "\n",
        "class Service:\n",
        "    secret = \"지구는 4006년에 멸망한다.\"\n",
        "\n",
        "an = Service()\n",
        "print(an.secret)\n",
        "\n",
        "# 클래스 변수 값 변경\n",
        "Service.secret = \"지구가 4006년에 멸망한다는 사실은 뻥이다.\"\n",
        "print(an.secret)"
      ],
      "metadata": {
        "colab": {
          "base_uri": "https://localhost:8080/"
        },
        "id": "GrjwnSaPofGy",
        "outputId": "41e5dce8-16fd-41b7-c2b7-ad71fde8aa7b"
      },
      "execution_count": 4,
      "outputs": [
        {
          "output_type": "stream",
          "name": "stdout",
          "text": [
            "지구는 4006년에 멸망한다.\n",
            "지구가 4006년에 멸망한다는 사실은 뻥이다.\n"
          ]
        }
      ]
    },
    {
      "cell_type": "code",
      "source": [
        "# 5. 메서드 정의 (self 포함)\n",
        "\n",
        "class Service:\n",
        "    secret = \"지구는 4006년에 멸망한다.\"\n",
        "    def sum(self, a, b):\n",
        "        result = a + b\n",
        "        print(\"%s + %s = %s이다.\" % (a, b, result))\n",
        "\n",
        "an = Service()\n",
        "an.sum(1, 1)"
      ],
      "metadata": {
        "colab": {
          "base_uri": "https://localhost:8080/"
        },
        "id": "kreVQKr6oi6L",
        "outputId": "01b274e3-cc83-4842-d612-271fa8dc2dfc"
      },
      "execution_count": 5,
      "outputs": [
        {
          "output_type": "stream",
          "name": "stdout",
          "text": [
            "1 + 1 = 2이다.\n"
          ]
        }
      ]
    },
    {
      "cell_type": "code",
      "source": [
        "# 6. 객체 변수와 setname 메서드 사용\n",
        "\n",
        "class Service:\n",
        "    secret = \"지구는 4006년에 멸망한다.\"\n",
        "    def setname(self, name):\n",
        "        self.name = name\n",
        "    def sum(self, a, b):\n",
        "        result = a + b\n",
        "        print(\"%s님, %s + %s = %s입니다.\" % (self.name, a, b, result))\n",
        "\n",
        "an = Service()\n",
        "an.setname(\"박달도사\")\n",
        "an.sum(1, 1)"
      ],
      "metadata": {
        "colab": {
          "base_uri": "https://localhost:8080/"
        },
        "id": "z50uTu3homJw",
        "outputId": "7fb02319-3e16-4e17-919d-99efd909b26d"
      },
      "execution_count": 6,
      "outputs": [
        {
          "output_type": "stream",
          "name": "stdout",
          "text": [
            "박달도사님, 1 + 1 = 2입니다.\n"
          ]
        }
      ]
    },
    {
      "cell_type": "code",
      "source": [
        "# 7. 클래스 변수 vs 객체 변수 차이\n",
        "\n",
        "kim = Service()\n",
        "park = Service()\n",
        "\n",
        "kim.name = \"김정보\"\n",
        "park.name = \"박융합\"\n",
        "\n",
        "print(kim.name)\n",
        "print(park.name)\n",
        "\n",
        "kim.secret = \"비밀은 없다\"\n",
        "\n",
        "print(park.secret)  # 클래스 변수 출력\n",
        "print(kim.secret)   # 객체 변수 출력 (오버라이드됨)\n",
        "\n",
        "print(Service.secret)  # 클래스 변수"
      ],
      "metadata": {
        "colab": {
          "base_uri": "https://localhost:8080/"
        },
        "id": "eaayTcQFooP8",
        "outputId": "d67a862d-b2b6-4192-fbea-053edd96cd65"
      },
      "execution_count": 7,
      "outputs": [
        {
          "output_type": "stream",
          "name": "stdout",
          "text": [
            "김정보\n",
            "박융합\n",
            "지구는 4006년에 멸망한다.\n",
            "비밀은 없다\n",
            "지구는 4006년에 멸망한다.\n"
          ]
        }
      ]
    },
    {
      "cell_type": "code",
      "source": [
        "# 8. __init__ 미사용 시 발생 오류\n",
        "\n",
        "class Service:\n",
        "    secret = \"지구는 4006년에 멸망한다.\"\n",
        "    def sum(self, a, b):\n",
        "        result = a + b\n",
        "        print(\"%s님, %s + %s = %s입니다.\" % (self.name, a, b, result))\n",
        "\n",
        "# 아래는 name을 지정하지 않아 에러 발생\n",
        "# lee = Service()\n",
        "# lee.sum(1, 1)"
      ],
      "metadata": {
        "id": "aSBvogDaoqpQ"
      },
      "execution_count": 8,
      "outputs": []
    },
    {
      "cell_type": "code",
      "source": [
        "# 9. __init__ 사용하여 name 자동 입력\n",
        "\n",
        "class Service:\n",
        "    secret = \"지구는 4006년에 멸망한다.\"\n",
        "    def __init__(self, name):\n",
        "        self.name = name\n",
        "    def sum(self, a, b):\n",
        "        result = a + b\n",
        "        print(\"%s님, %s + %s = %s입니다.\" % (self.name, a, b, result))\n",
        "\n",
        "an = Service(\"박달도사\")\n",
        "an.sum(1, 1)"
      ],
      "metadata": {
        "colab": {
          "base_uri": "https://localhost:8080/"
        },
        "id": "chbxtqccosP6",
        "outputId": "0491e1dd-e1b2-4520-feca-6c20f9805f30"
      },
      "execution_count": 9,
      "outputs": [
        {
          "output_type": "stream",
          "name": "stdout",
          "text": [
            "박달도사님, 1 + 1 = 2입니다.\n"
          ]
        }
      ]
    },
    {
      "cell_type": "code",
      "source": [
        "# 10. FourCal 클래스: 사칙연산 클래스 구현\n",
        "\n",
        "class FourCal:\n",
        "    def setdata(self, first, second):\n",
        "        self.first = first\n",
        "        self.second = second\n",
        "    def sum(self):\n",
        "        return self.first + self.second\n",
        "    def mul(self):\n",
        "        return self.first * self.second\n",
        "    def sub(self):\n",
        "        return self.first - self.second\n",
        "    def div(self):\n",
        "        return self.first / self.second\n",
        "\n",
        "a = FourCal()\n",
        "a.setdata(4, 2)\n",
        "print(a.sum())  # 6\n",
        "print(a.mul())  # 8\n",
        "print(a.sub())  # 2\n",
        "print(a.div())  # 2.0\n",
        "\n",
        "b = FourCal()\n",
        "b.setdata(3, 7)\n",
        "print(b.sub())  # -4"
      ],
      "metadata": {
        "colab": {
          "base_uri": "https://localhost:8080/"
        },
        "id": "DEZVaMTTouQu",
        "outputId": "bac0973e-96d5-4ae4-bc95-e7bd7bd1ec2f"
      },
      "execution_count": 10,
      "outputs": [
        {
          "output_type": "stream",
          "name": "stdout",
          "text": [
            "6\n",
            "8\n",
            "2\n",
            "2.0\n",
            "-4\n"
          ]
        }
      ]
    },
    {
      "cell_type": "code",
      "source": [
        "# 11. 주사위 게임 (절차적)\n",
        "\n",
        "import random\n",
        "\n",
        "player1_dice = []\n",
        "player2_dice = []\n",
        "\n",
        "for i in range(3):\n",
        "    player1_dice.append(random.randint(1, 6))\n",
        "    player2_dice.append(random.randint(1, 6))\n",
        "\n",
        "print(\"Player 1 rolled\", player1_dice)\n",
        "print(\"Player 2 rolled\", player2_dice)\n",
        "\n",
        "if sum(player1_dice) == sum(player2_dice):\n",
        "    print(\"Draw\")\n",
        "elif sum(player1_dice) > sum(player2_dice):\n",
        "    print(\"Player 1 wins\")\n",
        "else:\n",
        "    print(\"Player 2 wins\")"
      ],
      "metadata": {
        "colab": {
          "base_uri": "https://localhost:8080/"
        },
        "id": "kJnE9BP8ow9K",
        "outputId": "313a96db-be35-4fc1-8443-223ba393d508"
      },
      "execution_count": 11,
      "outputs": [
        {
          "output_type": "stream",
          "name": "stdout",
          "text": [
            "Player 1 rolled [3, 1, 6]\n",
            "Player 2 rolled [1, 1, 6]\n",
            "Player 1 wins\n"
          ]
        }
      ]
    },
    {
      "cell_type": "code",
      "source": [
        "# 12. 주사위 게임 (클래스 기반)\n",
        "\n",
        "from random import randint\n",
        "\n",
        "class Player:\n",
        "    def __init__(self):\n",
        "        self.dice = []\n",
        "    def roll(self):\n",
        "        self.dice = []\n",
        "        for _ in range(3):\n",
        "            self.dice.append(randint(1, 6))\n",
        "    def get_dice(self):\n",
        "        return self.dice\n",
        "\n",
        "player1 = Player()\n",
        "player2 = Player()\n",
        "\n",
        "player1.roll()\n",
        "player2.roll()\n",
        "\n",
        "print(\"Player 1 rolled\", player1.get_dice())\n",
        "print(\"Player 2 rolled\", player2.get_dice())\n",
        "\n",
        "if sum(player1.get_dice()) == sum(player2.get_dice()):\n",
        "    print(\"Draw\")\n",
        "elif sum(player1.get_dice()) > sum(player2.get_dice()):\n",
        "    print(\"Player 1 wins\")\n",
        "else:\n",
        "    print(\"Player 2 wins\")"
      ],
      "metadata": {
        "colab": {
          "base_uri": "https://localhost:8080/"
        },
        "id": "cdOnJRxfoywn",
        "outputId": "c1b4b41a-3a5d-495e-a8a3-2ae89b821fa0"
      },
      "execution_count": 12,
      "outputs": [
        {
          "output_type": "stream",
          "name": "stdout",
          "text": [
            "Player 1 rolled [6, 3, 6]\n",
            "Player 2 rolled [6, 4, 3]\n",
            "Player 1 wins\n"
          ]
        }
      ]
    }
  ]
}