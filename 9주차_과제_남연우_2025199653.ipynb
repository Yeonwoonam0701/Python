{
  "nbformat": 4,
  "nbformat_minor": 0,
  "metadata": {
    "colab": {
      "provenance": [],
      "authorship_tag": "ABX9TyOPyGb8RH5dMCP9as3Gdr0Z",
      "include_colab_link": true
    },
    "kernelspec": {
      "name": "python3",
      "display_name": "Python 3"
    },
    "language_info": {
      "name": "python"
    }
  },
  "cells": [
    {
      "cell_type": "markdown",
      "metadata": {
        "id": "view-in-github",
        "colab_type": "text"
      },
      "source": [
        "<a href=\"https://colab.research.google.com/github/Yeonwoonam0701/Python/blob/main/9%EC%A3%BC%EC%B0%A8_%EA%B3%BC%EC%A0%9C_%EB%82%A8%EC%97%B0%EC%9A%B0_2025199653.ipynb\" target=\"_parent\"><img src=\"https://colab.research.google.com/assets/colab-badge.svg\" alt=\"Open In Colab\"/></a>"
      ]
    },
    {
      "cell_type": "code",
      "execution_count": 2,
      "metadata": {
        "colab": {
          "base_uri": "https://localhost:8080/"
        },
        "id": "svZMMdSxlOfH",
        "outputId": "284ee453-315c-40d6-9025-d26397532d99"
      },
      "outputs": [
        {
          "output_type": "stream",
          "name": "stdout",
          "text": [
            "방법1: [1, 2, 3, 4, 5]\n"
          ]
        }
      ],
      "source": [
        "#1. List Comprehension\n",
        "\n",
        "# 방법 1: append() 사용\n",
        "number_list = []\n",
        "number_list.append(1)\n",
        "number_list.append(2)\n",
        "number_list.append(3)\n",
        "number_list.append(4)\n",
        "number_list.append(5)\n",
        "print(\"방법1:\", number_list)"
      ]
    },
    {
      "cell_type": "code",
      "source": [
        "# 방법 2: for문 + append\n",
        "number_list = []\n",
        "for number in range(1, 6):\n",
        "    number_list.append(number)\n",
        "print(\"방법2:\", number_list)"
      ],
      "metadata": {
        "colab": {
          "base_uri": "https://localhost:8080/"
        },
        "id": "6tZ_dwkSl4L1",
        "outputId": "b20bd73e-cacf-4806-9ec5-6b208b6f1733"
      },
      "execution_count": 3,
      "outputs": [
        {
          "output_type": "stream",
          "name": "stdout",
          "text": [
            "방법2: [1, 2, 3, 4, 5]\n"
          ]
        }
      ]
    },
    {
      "cell_type": "code",
      "source": [
        "# 방법 3: list(range())\n",
        "number_list = list(range(1, 6))\n",
        "print(\"방법3:\", number_list)"
      ],
      "metadata": {
        "colab": {
          "base_uri": "https://localhost:8080/"
        },
        "id": "tmG3uEKrl9Ve",
        "outputId": "8d37ea49-f25a-4f31-d643-3532a769f1bb"
      },
      "execution_count": 4,
      "outputs": [
        {
          "output_type": "stream",
          "name": "stdout",
          "text": [
            "방법3: [1, 2, 3, 4, 5]\n"
          ]
        }
      ]
    },
    {
      "cell_type": "code",
      "source": [
        "# 방법 4: List comprehension\n",
        "number_list = [number for number in range(1, 6)]\n",
        "print(\"방법4:\", number_list)"
      ],
      "metadata": {
        "colab": {
          "base_uri": "https://localhost:8080/"
        },
        "id": "jlp1s6zJl_1Q",
        "outputId": "905a953a-0962-4475-89c0-f2d14cd06507"
      },
      "execution_count": 5,
      "outputs": [
        {
          "output_type": "stream",
          "name": "stdout",
          "text": [
            "방법4: [1, 2, 3, 4, 5]\n"
          ]
        }
      ]
    },
    {
      "cell_type": "code",
      "source": [
        "# 함수 적용\n",
        "print([number - 1 for number in range(1, 6)])"
      ],
      "metadata": {
        "colab": {
          "base_uri": "https://localhost:8080/"
        },
        "id": "yPtUFgQnmBpU",
        "outputId": "9fc5fb54-f980-4e55-ed51-4b07b7b2fa3d"
      },
      "execution_count": 6,
      "outputs": [
        {
          "output_type": "stream",
          "name": "stdout",
          "text": [
            "[0, 1, 2, 3, 4]\n"
          ]
        }
      ]
    },
    {
      "cell_type": "code",
      "source": [
        "# 조건 적용: 홀수만\n",
        "print([number for number in range(1, 6) if number % 2 == 1])"
      ],
      "metadata": {
        "colab": {
          "base_uri": "https://localhost:8080/"
        },
        "id": "YKGpUUPDmFIP",
        "outputId": "4fefeaa7-a9f4-42cc-a3c6-f47c2062e01e"
      },
      "execution_count": 7,
      "outputs": [
        {
          "output_type": "stream",
          "name": "stdout",
          "text": [
            "[1, 3, 5]\n"
          ]
        }
      ]
    },
    {
      "cell_type": "code",
      "source": [
        "# for문 버전\n",
        "a_list = []\n",
        "for number in range(1, 6):\n",
        "    if number % 2 == 1:\n",
        "        a_list.append(number)\n",
        "print(a_list)"
      ],
      "metadata": {
        "colab": {
          "base_uri": "https://localhost:8080/"
        },
        "id": "3nB5A2RYmHws",
        "outputId": "c1ab752b-d2bf-4712-8042-82663e7da4e8"
      },
      "execution_count": 8,
      "outputs": [
        {
          "output_type": "stream",
          "name": "stdout",
          "text": [
            "[1, 3, 5]\n"
          ]
        }
      ]
    },
    {
      "cell_type": "code",
      "source": [
        "#2. 다양한 Comprehension 예제\n",
        "\n",
        "# 소문자로 변환\n",
        "sentence = ['I', 'Love', 'Python', 'Soooooo', 'MUCH!!!']\n",
        "print([word.lower() for word in sentence])"
      ],
      "metadata": {
        "colab": {
          "base_uri": "https://localhost:8080/"
        },
        "id": "crZXoKgVmMMT",
        "outputId": "44537792-ba7f-41d0-ef30-4f6cc4d5f7ca"
      },
      "execution_count": 9,
      "outputs": [
        {
          "output_type": "stream",
          "name": "stdout",
          "text": [
            "['i', 'love', 'python', 'soooooo', 'much!!!']\n"
          ]
        }
      ]
    },
    {
      "cell_type": "code",
      "source": [
        "# 길이가 6 초과\n",
        "print([word for word in sentence if len(word) > 6])"
      ],
      "metadata": {
        "colab": {
          "base_uri": "https://localhost:8080/"
        },
        "id": "s6FiSoxEmQHe",
        "outputId": "ee0e487f-9e33-4c4d-e21a-912160d940ad"
      },
      "execution_count": 10,
      "outputs": [
        {
          "output_type": "stream",
          "name": "stdout",
          "text": [
            "['Soooooo', 'MUCH!!!']\n"
          ]
        }
      ]
    },
    {
      "cell_type": "code",
      "source": [
        "# 튜플 (x, x^2, x^3)\n",
        "print([(x, x**2, x**3) for x in range(10)])"
      ],
      "metadata": {
        "colab": {
          "base_uri": "https://localhost:8080/"
        },
        "id": "-95aOLl0mRuo",
        "outputId": "a3d922cb-7bd6-40a9-8bee-0f18561f3fa1"
      },
      "execution_count": 11,
      "outputs": [
        {
          "output_type": "stream",
          "name": "stdout",
          "text": [
            "[(0, 0, 0), (1, 1, 1), (2, 4, 8), (3, 9, 27), (4, 16, 64), (5, 25, 125), (6, 36, 216), (7, 49, 343), (8, 64, 512), (9, 81, 729)]\n"
          ]
        }
      ]
    },
    {
      "cell_type": "code",
      "source": [
        "# 중첩 for문\n",
        "cells = [(row, col) for row in range(1, 4) for col in range(1, 3)]\n",
        "print(cells)"
      ],
      "metadata": {
        "colab": {
          "base_uri": "https://localhost:8080/"
        },
        "id": "lLe5VZupmTqO",
        "outputId": "fdaa00cf-4e4d-42ad-e575-7889f8ecdd3d"
      },
      "execution_count": 12,
      "outputs": [
        {
          "output_type": "stream",
          "name": "stdout",
          "text": [
            "[(1, 1), (1, 2), (2, 1), (2, 2), (3, 1), (3, 2)]\n"
          ]
        }
      ]
    },
    {
      "cell_type": "code",
      "source": [
        "# 중첩 for문 with 조건\n",
        "print([(i, j) for i in range(5) for j in range(i)])"
      ],
      "metadata": {
        "colab": {
          "base_uri": "https://localhost:8080/"
        },
        "id": "Jn4Q8xCrmVgR",
        "outputId": "5705b416-91b8-4102-bc84-e09a4c477fbf"
      },
      "execution_count": 13,
      "outputs": [
        {
          "output_type": "stream",
          "name": "stdout",
          "text": [
            "[(1, 0), (2, 0), (2, 1), (3, 0), (3, 1), (3, 2), (4, 0), (4, 1), (4, 2), (4, 3)]\n"
          ]
        }
      ]
    },
    {
      "cell_type": "code",
      "source": [
        "#3. Dictionary & Set Comprehension\n",
        "\n",
        "# 딕셔너리\n",
        "word = 'letters'\n",
        "letter_counts = {letter: word.count(letter) for letter in word}\n",
        "print(letter_counts)"
      ],
      "metadata": {
        "colab": {
          "base_uri": "https://localhost:8080/"
        },
        "id": "Bp2VSZSymYD4",
        "outputId": "21152208-9acd-4fe1-9f20-be13466c0dea"
      },
      "execution_count": 14,
      "outputs": [
        {
          "output_type": "stream",
          "name": "stdout",
          "text": [
            "{'l': 1, 'e': 2, 't': 2, 'r': 1, 's': 1}\n"
          ]
        }
      ]
    },
    {
      "cell_type": "code",
      "source": [
        "# 중복 제거 후 성능 개선\n",
        "letter_counts = {letter: word.count(letter) for letter in set(word)}\n",
        "print(letter_counts)"
      ],
      "metadata": {
        "colab": {
          "base_uri": "https://localhost:8080/"
        },
        "id": "P6KxYKxVmaQB",
        "outputId": "f651ccad-855f-44a4-de86-df5a97d0b11c"
      },
      "execution_count": 15,
      "outputs": [
        {
          "output_type": "stream",
          "name": "stdout",
          "text": [
            "{'l': 1, 'r': 1, 's': 1, 't': 2, 'e': 2}\n"
          ]
        }
      ]
    },
    {
      "cell_type": "code",
      "source": [
        "# Set comprehension\n",
        "a_set = {number for number in range(1, 6) if number % 3 == 1}\n",
        "print(a_set)"
      ],
      "metadata": {
        "colab": {
          "base_uri": "https://localhost:8080/"
        },
        "id": "sPC35LIkmcNR",
        "outputId": "6f53b307-7da1-4f1b-9efa-4dc0592c72dc"
      },
      "execution_count": 16,
      "outputs": [
        {
          "output_type": "stream",
          "name": "stdout",
          "text": [
            "{1, 4}\n"
          ]
        }
      ]
    },
    {
      "cell_type": "code",
      "source": [
        "#4. 함수 기초 및 zip 사용 예제\n",
        "\n",
        "# 함수 정의 및 호출\n",
        "def sum(a, b):\n",
        "    return a + b\n",
        "\n",
        "print(sum(1, 2))\n",
        "print(sum(1.3, 3.1))\n",
        "print(sum('love ', 'python♥'))"
      ],
      "metadata": {
        "colab": {
          "base_uri": "https://localhost:8080/"
        },
        "id": "4Czl7dEimfcU",
        "outputId": "cc2f1eee-902c-403d-9736-7d72eed2e5c0"
      },
      "execution_count": 17,
      "outputs": [
        {
          "output_type": "stream",
          "name": "stdout",
          "text": [
            "3\n",
            "4.4\n",
            "love python♥\n"
          ]
        }
      ]
    },
    {
      "cell_type": "code",
      "source": [
        "# zip 사용\n",
        "days = ['Monday', 'Tuesday', 'Wednesday']\n",
        "fruits = ['banana', 'orange', 'peach']\n",
        "drinks = ['coffee', 'tea', 'beer']\n",
        "desserts = ['tiramisu', 'ice cream', 'pie', 'pudding']\n",
        "\n",
        "for day, fruit, drink, dessert in zip(days, fruits, drinks, desserts):\n",
        "    print(f\"{day}: drink {drink} - eat {fruit} - enjoy {dessert}\")"
      ],
      "metadata": {
        "colab": {
          "base_uri": "https://localhost:8080/"
        },
        "id": "6A8ZR8lwmmlU",
        "outputId": "f7f2e361-0b34-47fa-965b-a2934380fe6c"
      },
      "execution_count": 18,
      "outputs": [
        {
          "output_type": "stream",
          "name": "stdout",
          "text": [
            "Monday: drink coffee - eat banana - enjoy tiramisu\n",
            "Tuesday: drink tea - eat orange - enjoy ice cream\n",
            "Wednesday: drink beer - eat peach - enjoy pie\n"
          ]
        }
      ]
    },
    {
      "cell_type": "code",
      "source": [
        "# 영어-불어 zip\n",
        "english = ['Monday', 'Tuesday', 'Wednesday']\n",
        "french = ['Lundi', 'Mardi', 'Mercredi']\n",
        "\n",
        "print(dict(zip(english, french)))"
      ],
      "metadata": {
        "colab": {
          "base_uri": "https://localhost:8080/"
        },
        "id": "91W571VSmoll",
        "outputId": "8e9cdbe2-6a56-4fab-d3ad-51bb4899d0f0"
      },
      "execution_count": 19,
      "outputs": [
        {
          "output_type": "stream",
          "name": "stdout",
          "text": [
            "{'Monday': 'Lundi', 'Tuesday': 'Mardi', 'Wednesday': 'Mercredi'}\n"
          ]
        }
      ]
    },
    {
      "cell_type": "code",
      "source": [
        "#5. 함수 인자 형태 (위치 인자, 키워드 인자, 기본값 포함)\n",
        "\n",
        "def menu(wine, entree, dessert='pudding'):\n",
        "    return {'wine': wine, 'entree': entree, 'dessert': dessert}\n",
        "\n",
        "print(menu('chardonnay', 'chicken'))\n",
        "print(menu('dunkelfelder', 'duck', 'doughnut'))\n",
        "print(menu(entree='beef', dessert='bagel', wine='bordeaux'))\n",
        "print(menu('frontenac', dessert='flan', entree='fish'))"
      ],
      "metadata": {
        "colab": {
          "base_uri": "https://localhost:8080/"
        },
        "id": "MVF8JSNjmrMa",
        "outputId": "b095044c-8829-4621-a1c2-ee1c0dc7aaad"
      },
      "execution_count": 20,
      "outputs": [
        {
          "output_type": "stream",
          "name": "stdout",
          "text": [
            "{'wine': 'chardonnay', 'entree': 'chicken', 'dessert': 'pudding'}\n",
            "{'wine': 'dunkelfelder', 'entree': 'duck', 'dessert': 'doughnut'}\n",
            "{'wine': 'bordeaux', 'entree': 'beef', 'dessert': 'bagel'}\n",
            "{'wine': 'frontenac', 'entree': 'fish', 'dessert': 'flan'}\n"
          ]
        }
      ]
    },
    {
      "cell_type": "code",
      "source": [
        "# 가격 포함한 menu 함수\n",
        "def menu(price, wine='chardonnay', entree='chicken', dessert='pudding'):\n",
        "    return {'price': price, 'wine': wine, 'entree': entree, 'dessert': dessert}\n",
        "\n",
        "print(menu(100))\n",
        "print(menu(price=150))\n",
        "print(menu(price=120, entree='beef'))\n",
        "print(menu(dessert='bagel', price=110))\n",
        "print(menu('eighty', 'saint-pierre', 'fish'))\n",
        "print(menu('hundred', wine='saint-pierre'))"
      ],
      "metadata": {
        "colab": {
          "base_uri": "https://localhost:8080/"
        },
        "id": "QeevFCtomtkH",
        "outputId": "827cc64f-65d9-4cdb-d1be-3577562fe975"
      },
      "execution_count": 21,
      "outputs": [
        {
          "output_type": "stream",
          "name": "stdout",
          "text": [
            "{'price': 100, 'wine': 'chardonnay', 'entree': 'chicken', 'dessert': 'pudding'}\n",
            "{'price': 150, 'wine': 'chardonnay', 'entree': 'chicken', 'dessert': 'pudding'}\n",
            "{'price': 120, 'wine': 'chardonnay', 'entree': 'beef', 'dessert': 'pudding'}\n",
            "{'price': 110, 'wine': 'chardonnay', 'entree': 'chicken', 'dessert': 'bagel'}\n",
            "{'price': 'eighty', 'wine': 'saint-pierre', 'entree': 'fish', 'dessert': 'pudding'}\n",
            "{'price': 'hundred', 'wine': 'saint-pierre', 'entree': 'chicken', 'dessert': 'pudding'}\n"
          ]
        }
      ]
    },
    {
      "cell_type": "code",
      "source": [
        "#6. 잘못된 함수 호출 예제 (오류 발생)\n",
        "\n",
        "# menu()  # 오류: price 누락\n",
        "# menu(price=100, 'saint-pierre')  # 오류: 위치 인자가 키워드 인자 뒤에 옴\n",
        "# menu(100, price=120)  # 오류: 같은 인자 두 번\n",
        "# menu(main='cream pasta')  # 오류: 정의되지 않은 인자"
      ],
      "metadata": {
        "id": "6SfmaG-Bmu1K"
      },
      "execution_count": 22,
      "outputs": []
    },
    {
      "cell_type": "code",
      "source": [
        "#7. 함수 문서(docstring) 및 help()\n",
        "\n",
        "def echo(anything):\n",
        "    \"echo returns its input argument\"\n",
        "    return anything\n",
        "\n",
        "def print_if_true(thing, check):\n",
        "    \"\"\"\n",
        "    Prints the first argument if a second argument is true.\n",
        "    The operation is:\n",
        "        1. Check whether the *second* argument is true.\n",
        "        2. If it is, print the *first* argument.\n",
        "    \"\"\"\n",
        "    if check:\n",
        "        print(thing)\n",
        "\n",
        "help(echo)\n",
        "help(print_if_true)"
      ],
      "metadata": {
        "colab": {
          "base_uri": "https://localhost:8080/"
        },
        "id": "pxLkmMcYm_eO",
        "outputId": "78b3dddd-5f01-408b-eceb-7a98a1bf2dc2"
      },
      "execution_count": 23,
      "outputs": [
        {
          "output_type": "stream",
          "name": "stdout",
          "text": [
            "Help on function echo in module __main__:\n",
            "\n",
            "echo(anything)\n",
            "    echo returns its input argument\n",
            "\n",
            "Help on function print_if_true in module __main__:\n",
            "\n",
            "print_if_true(thing, check)\n",
            "    Prints the first argument if a second argument is true.\n",
            "    The operation is:\n",
            "        1. Check whether the *second* argument is true.\n",
            "        2. If it is, print the *first* argument.\n",
            "\n"
          ]
        }
      ]
    }
  ]
}